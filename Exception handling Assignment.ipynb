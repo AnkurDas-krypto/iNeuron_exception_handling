{
 "cells": [
  {
   "cell_type": "markdown",
   "metadata": {},
   "source": [
    "#### 1. Write a function to compute 5/0 and use try/except to catch the exceptions. "
   ]
  },
  {
   "cell_type": "code",
   "execution_count": 1,
   "metadata": {},
   "outputs": [
    {
     "name": "stdout",
     "output_type": "stream",
     "text": [
      "enter a4\n",
      "enter b0\n",
      "division by 0 error\n"
     ]
    }
   ],
   "source": [
    "def error():\n",
    "    try:\n",
    "        a = int(input('enter a'))\n",
    "        b = int(input('enter b'))\n",
    "        c = a/b\n",
    "        print(c)\n",
    "    except Exception:\n",
    "        print('division by 0 error')\n",
    "        \n",
    "error() "
   ]
  },
  {
   "cell_type": "markdown",
   "metadata": {},
   "source": [
    "#### 2. Implement a Python program to generate all sentences where subject is in  [\"Americans\", \"Indians\"] and verb is in [\"Play\", \"watch\"] and the object is in  [\"Baseball\",\"cricket\"]. "
   ]
  },
  {
   "cell_type": "code",
   "execution_count": 3,
   "metadata": {},
   "outputs": [
    {
     "name": "stdout",
     "output_type": "stream",
     "text": [
      "Americans  play Baseball\n",
      "Americans  play Cricket\n",
      "Americans  watch Baseball\n",
      "Americans  watch Cricket\n",
      "Indians play Baseball\n",
      "Indians play Cricket\n",
      "Indians watch Baseball\n",
      "Indians watch Cricket\n"
     ]
    }
   ],
   "source": [
    "subjects=[\"Americans \",\"Indians\"] \n",
    "verbs=[\"play\",\"watch\"] \n",
    "objects=[\"Baseball\",\"Cricket\"] \n",
    "\n",
    "\n",
    "lst = [subjects[i]+ ' ' +verbs[j]+ ' ' +objects[k] for i in range(2) for j in range(2) for k in range(2)]         \n",
    "\n",
    "for i in lst:\n",
    "    print(i)"
   ]
  },
  {
   "cell_type": "code",
   "execution_count": null,
   "metadata": {},
   "outputs": [],
   "source": []
  }
 ],
 "metadata": {
  "kernelspec": {
   "display_name": "Python 3",
   "language": "python",
   "name": "python3"
  },
  "language_info": {
   "codemirror_mode": {
    "name": "ipython",
    "version": 3
   },
   "file_extension": ".py",
   "mimetype": "text/x-python",
   "name": "python",
   "nbconvert_exporter": "python",
   "pygments_lexer": "ipython3",
   "version": "3.7.1"
  }
 },
 "nbformat": 4,
 "nbformat_minor": 4
}
